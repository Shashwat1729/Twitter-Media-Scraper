{
 "cells": [
  {
   "cell_type": "code",
   "execution_count": 3,
   "id": "8ea1e4a1",
   "metadata": {},
   "outputs": [],
   "source": [
    "# !pip install selenium"
   ]
  },
  {
   "cell_type": "markdown",
   "id": "eeb9da6f",
   "metadata": {},
   "source": [
    "## Necessary Imports"
   ]
  },
  {
   "cell_type": "code",
   "execution_count": 2,
   "id": "922b4990",
   "metadata": {},
   "outputs": [],
   "source": [
    "import selenium\n",
    "from selenium import webdriver\n",
    "from selenium.webdriver.common.by import By\n",
    "from selenium.webdriver.common.keys import Keys\n",
    "from selenium.webdriver.support.ui import WebDriverWait\n",
    "from selenium.webdriver.support import expected_conditions as EC\n",
    "import pandas as pd\n",
    "from PIL import Image\n",
    "import os\n",
    "\n",
    "import pandas as pd\n",
    "import re\n",
    "import requests\n",
    "\n",
    "from time import sleep\n",
    "import time"
   ]
  },
  {
   "cell_type": "markdown",
   "id": "893ee22e",
   "metadata": {},
   "source": [
    "## Scraping"
   ]
  },
  {
   "cell_type": "code",
   "execution_count": 1,
   "id": "a65739a6",
   "metadata": {},
   "outputs": [],
   "source": [
    "usernames = #list of usernames\n",
    "passwords = #list of passwords\n",
    "months = #list of months\n",
    "year = 2017\n",
    "num_of_tweets = 300 #max can be 600 for each account but since each tweet doesnt have an image so entire 600 would not be possible\n",
    "\n",
    "UserTags, TimeStamps, Tweets_url, url = [], [], [], []\n",
    "\n",
    "for user, pw, month in zip(usernames, passwords, months):\n",
    "    \n",
    "    driver = webdriver.Chrome()\n",
    "    \n",
    "    if(month>=10):\n",
    "        driver.get(f'https://twitter.com/search?q=(from%3Anytimes)%20until%3A{year}-{month}-28%20since%3A{year}-{month}-01&src=typed_query&f=live')\n",
    "    else:\n",
    "        driver.get(f'https://twitter.com/search?q=(from%3Anytimes)%20until%3A{year}-0{month}-28%20since%3A{year}-0{month}-01&src=typed_query&f=live')\n",
    "\n",
    "\n",
    "    # Wait for the page to load before continuing\n",
    "    sleep(7)\n",
    "\n",
    "    #### LOGIN ######\n",
    "    # Find the username input field using its XPATH and enter a username\n",
    "    username = driver.find_element(By.XPATH,\"//input[@name='text']\")\n",
    "    username.send_keys(user)\n",
    "\n",
    "    # Find the 'Next' button using its XPATH and click it to move to the password field\n",
    "    next_button = driver.find_element(By.XPATH,\"//span[contains(text(),'Next')]\")\n",
    "    next_button.click()\n",
    "\n",
    "    # Wait for the next page to load before continuing\n",
    "    sleep(10)\n",
    "\n",
    "    # Find the password input field using its XPATH and enter a password\n",
    "    password = driver.find_element(By.XPATH,\"//input[@name='password']\")\n",
    "    password.send_keys(pw)\n",
    "\n",
    "    # Find the 'Log in' button using its XPATH and click it to log in\n",
    "    log_in = driver.find_element(By.XPATH,\"//span[contains(text(),'Log in')]\")\n",
    "    log_in.click()\n",
    "\n",
    "\n",
    "    driver.execute_script('window.scrollTo(0,document.body.scrollHeight);')\n",
    "    articles = driver.find_elements(By.XPATH,\"//article[@data-testid='tweet']\")\n",
    "    \n",
    "    Tweets2, media_url, Tweets = [], [], []\n",
    "\n",
    "    begin = time.time()\n",
    "\n",
    "    while True:\n",
    "        for article in articles:\n",
    "\n",
    "            img_url = article.find_elements(By.CLASS_NAME, 'css-9pa8cd')\n",
    "    #         print(len(img_url))\n",
    "            if len(img_url) > 1:\n",
    "                \n",
    "                try:\n",
    "                    img_url = img_url[1].get_attribute('src')\n",
    "                    Tweet = article.find_element(By.XPATH,\".//div[@data-testid='tweetText']\").text\n",
    "                    Tweets.append(Tweet)\n",
    "                    url.append(img_url)\n",
    "#                     Tweets_url.append((Tweet, img_url))\n",
    "\n",
    "                    UserTag = article.find_element(By.XPATH,\".//div[@data-testid='User-Name']\").text\n",
    "                    UserTags.append(UserTag)\n",
    "\n",
    "                    TimeStamp = article.find_element(By.XPATH,\".//time\").get_attribute('datetime')\n",
    "                    TimeStamps.append(TimeStamp)\n",
    "                \n",
    "                    Tweets_url.append((Tweet, img_url, TimeStamp.split('T')[0]))\n",
    "                    \n",
    "                except:\n",
    "                    pass\n",
    "\n",
    "            else:\n",
    "                continue\n",
    "\n",
    "        Tweets2 = list(set(Tweets))\n",
    "        media_url = list(set(url))\n",
    "\n",
    "        if len(Tweets2) > num_of_tweets:\n",
    "            print(len(Tweets2))\n",
    "            break\n",
    "\n",
    "        driver.execute_script('window.scrollTo(0,document.body.scrollHeight);')\n",
    "        time.sleep(3)\n",
    "        articles = driver.find_elements(By.XPATH,\"//article[@data-testid='tweet']\")\n",
    "\n",
    "    end = time.time()\n",
    "    print(f\"Scraping done for username: {user}\")\n",
    "    print(\"Time taken: \", end-begin)\n",
    "    \n",
    "    driver.close()"
   ]
  },
  {
   "cell_type": "code",
   "execution_count": 32,
   "id": "84430793",
   "metadata": {},
   "outputs": [
    {
     "data": {
      "text/plain": [
       "196"
      ]
     },
     "execution_count": 32,
     "metadata": {},
     "output_type": "execute_result"
    }
   ],
   "source": [
    "len(Tweets2)"
   ]
  },
  {
   "cell_type": "code",
   "execution_count": 33,
   "id": "7100261f",
   "metadata": {},
   "outputs": [],
   "source": [
    "tweet, url1, ts = zip(*Tweets_url)\n",
    "df = pd.DataFrame({\"tweetContent\": tweet, \"mediaUrl\": url1, \"timeStamp\": ts})"
   ]
  },
  {
   "cell_type": "code",
   "execution_count": 34,
   "id": "9780b0f1",
   "metadata": {},
   "outputs": [
    {
     "data": {
      "text/html": [
       "<div>\n",
       "<style scoped>\n",
       "    .dataframe tbody tr th:only-of-type {\n",
       "        vertical-align: middle;\n",
       "    }\n",
       "\n",
       "    .dataframe tbody tr th {\n",
       "        vertical-align: top;\n",
       "    }\n",
       "\n",
       "    .dataframe thead th {\n",
       "        text-align: right;\n",
       "    }\n",
       "</style>\n",
       "<table border=\"1\" class=\"dataframe\">\n",
       "  <thead>\n",
       "    <tr style=\"text-align: right;\">\n",
       "      <th></th>\n",
       "      <th>tweetContent</th>\n",
       "      <th>mediaUrl</th>\n",
       "    </tr>\n",
       "  </thead>\n",
       "  <tbody>\n",
       "    <tr>\n",
       "      <th>0</th>\n",
       "      <td>Why I Love Reality Television</td>\n",
       "      <td>https://pbs.twimg.com/card_img/171204964837696...</td>\n",
       "    </tr>\n",
       "    <tr>\n",
       "      <th>1</th>\n",
       "      <td>The ancient roads, pyramids and houses reveale...</td>\n",
       "      <td>https://pbs.twimg.com/card_img/171362614936727...</td>\n",
       "    </tr>\n",
       "    <tr>\n",
       "      <th>2</th>\n",
       "      <td>As others fled amid a 7.5 magnitude earthquake...</td>\n",
       "      <td>https://pbs.twimg.com/card_img/171256421941632...</td>\n",
       "    </tr>\n",
       "    <tr>\n",
       "      <th>3</th>\n",
       "      <td>\"Rarely has the reputation of a leader fallen ...</td>\n",
       "      <td>https://pbs.twimg.com/card_img/171199040042709...</td>\n",
       "    </tr>\n",
       "    <tr>\n",
       "      <th>4</th>\n",
       "      <td>Golf Digest and college students helped free a...</td>\n",
       "      <td>https://pbs.twimg.com/card_img/171268104717383...</td>\n",
       "    </tr>\n",
       "    <tr>\n",
       "      <th>...</th>\n",
       "      <td>...</td>\n",
       "      <td>...</td>\n",
       "    </tr>\n",
       "    <tr>\n",
       "      <th>284</th>\n",
       "      <td>As climate change and rapid growth bring more ...</td>\n",
       "      <td>https://pbs.twimg.com/card_img/171165050324173...</td>\n",
       "    </tr>\n",
       "    <tr>\n",
       "      <th>285</th>\n",
       "      <td>Some of the young Chinese hockey players recei...</td>\n",
       "      <td>https://pbs.twimg.com/card_img/171096391985733...</td>\n",
       "    </tr>\n",
       "    <tr>\n",
       "      <th>286</th>\n",
       "      <td>“Hold your burgers, hold your fries. Keep your...</td>\n",
       "      <td>https://pbs.twimg.com/card_img/171085168633439...</td>\n",
       "    </tr>\n",
       "    <tr>\n",
       "      <th>287</th>\n",
       "      <td>Two female patients trapped inside a sheriff’s...</td>\n",
       "      <td>https://pbs.twimg.com/card_img/171282150906698...</td>\n",
       "    </tr>\n",
       "    <tr>\n",
       "      <th>288</th>\n",
       "      <td>As climate change and rapid growth bring more ...</td>\n",
       "      <td>https://pbs.twimg.com/card_img/171165050324173...</td>\n",
       "    </tr>\n",
       "  </tbody>\n",
       "</table>\n",
       "<p>289 rows × 2 columns</p>\n",
       "</div>"
      ],
      "text/plain": [
       "                                          tweetContent  \\\n",
       "0                        Why I Love Reality Television   \n",
       "1    The ancient roads, pyramids and houses reveale...   \n",
       "2    As others fled amid a 7.5 magnitude earthquake...   \n",
       "3    \"Rarely has the reputation of a leader fallen ...   \n",
       "4    Golf Digest and college students helped free a...   \n",
       "..                                                 ...   \n",
       "284  As climate change and rapid growth bring more ...   \n",
       "285  Some of the young Chinese hockey players recei...   \n",
       "286  “Hold your burgers, hold your fries. Keep your...   \n",
       "287  Two female patients trapped inside a sheriff’s...   \n",
       "288  As climate change and rapid growth bring more ...   \n",
       "\n",
       "                                              mediaUrl  \n",
       "0    https://pbs.twimg.com/card_img/171204964837696...  \n",
       "1    https://pbs.twimg.com/card_img/171362614936727...  \n",
       "2    https://pbs.twimg.com/card_img/171256421941632...  \n",
       "3    https://pbs.twimg.com/card_img/171199040042709...  \n",
       "4    https://pbs.twimg.com/card_img/171268104717383...  \n",
       "..                                                 ...  \n",
       "284  https://pbs.twimg.com/card_img/171165050324173...  \n",
       "285  https://pbs.twimg.com/card_img/171096391985733...  \n",
       "286  https://pbs.twimg.com/card_img/171085168633439...  \n",
       "287  https://pbs.twimg.com/card_img/171282150906698...  \n",
       "288  https://pbs.twimg.com/card_img/171165050324173...  \n",
       "\n",
       "[289 rows x 2 columns]"
      ]
     },
     "execution_count": 34,
     "metadata": {},
     "output_type": "execute_result"
    }
   ],
   "source": [
    "df"
   ]
  },
  {
   "cell_type": "code",
   "execution_count": 35,
   "id": "4b20ddd4",
   "metadata": {},
   "outputs": [],
   "source": [
    "df.drop_duplicates(inplace=True)\n",
    "df.index = range(0, len(df))"
   ]
  },
  {
   "cell_type": "code",
   "execution_count": 36,
   "id": "4afff073",
   "metadata": {},
   "outputs": [
    {
     "name": "stdout",
     "output_type": "stream",
     "text": [
      "<class 'pandas.core.frame.DataFrame'>\n",
      "Int64Index: 196 entries, 0 to 200\n",
      "Data columns (total 2 columns):\n",
      " #   Column        Non-Null Count  Dtype \n",
      "---  ------        --------------  ----- \n",
      " 0   tweetContent  196 non-null    object\n",
      " 1   mediaUrl      196 non-null    object\n",
      "dtypes: object(2)\n",
      "memory usage: 4.6+ KB\n"
     ]
    }
   ],
   "source": [
    "df.info()"
   ]
  },
  {
   "cell_type": "code",
   "execution_count": 38,
   "id": "ef2e7b04",
   "metadata": {},
   "outputs": [],
   "source": [
    "#save to excel\n",
    "df.to_excel('', index=False)"
   ]
  }
 ],
 "metadata": {
  "kernelspec": {
   "display_name": "Python 3 (ipykernel)",
   "language": "python",
   "name": "python3"
  },
  "language_info": {
   "codemirror_mode": {
    "name": "ipython",
    "version": 3
   },
   "file_extension": ".py",
   "mimetype": "text/x-python",
   "name": "python",
   "nbconvert_exporter": "python",
   "pygments_lexer": "ipython3",
   "version": "3.9.13"
  }
 },
 "nbformat": 4,
 "nbformat_minor": 5
}
